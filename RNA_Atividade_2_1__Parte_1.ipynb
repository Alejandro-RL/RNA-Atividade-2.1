{
  "nbformat": 4,
  "nbformat_minor": 0,
  "metadata": {
    "colab": {
      "name": "RNA-Atividade-2.1._Parte-1.ipynb",
      "provenance": [],
      "collapsed_sections": [],
      "authorship_tag": "ABX9TyNYUMehV/IbV4raOJlX+TBk",
      "include_colab_link": true
    },
    "kernelspec": {
      "name": "python3",
      "display_name": "Python 3"
    },
    "language_info": {
      "name": "python"
    }
  },
  "cells": [
    {
      "cell_type": "markdown",
      "metadata": {
        "id": "view-in-github",
        "colab_type": "text"
      },
      "source": [
        "<a href=\"https://colab.research.google.com/github/Alejandro-RL/RNA-Atividade-2.1/blob/main/RNA_Atividade_2_1__Parte_1.ipynb\" target=\"_parent\"><img src=\"https://colab.research.google.com/assets/colab-badge.svg\" alt=\"Open In Colab\"/></a>"
      ]
    },
    {
      "cell_type": "markdown",
      "metadata": {
        "id": "YOG23lgcWbnH"
      },
      "source": [
        "# Imports e Arquivos"
      ]
    },
    {
      "cell_type": "code",
      "metadata": {
        "id": "3rNDX-iTTV7r"
      },
      "source": [
        "import numpy as np\n",
        "import matplotlib.pyplot as plt\n",
        "import math\n",
        "import random"
      ],
      "execution_count": 2,
      "outputs": []
    },
    {
      "cell_type": "code",
      "metadata": {
        "id": "s0Ei7_NoWxmP"
      },
      "source": [
        "!wget https://www.dropbox.com/s/8l7ced95mb4k9ds/dataAll.txt\n",
        "!wget https://www.dropbox.com/s/jad0ciovllm7y2y/data1.txt\n",
        "!wget https://www.dropbox.com/s/mnzqvzttfan3r3f/dataHoldout.txt"
      ],
      "execution_count": null,
      "outputs": []
    },
    {
      "cell_type": "markdown",
      "metadata": {
        "id": "yDO7Q0V3XnMk"
      },
      "source": [
        "# Parte I – Resolvendo um Problema Linearmente Separável"
      ]
    },
    {
      "cell_type": "code",
      "metadata": {
        "id": "YIUllyxzXsW7"
      },
      "source": [
        "'''\n",
        "Função de Ativação de Degrau com θ = 0;\n",
        "Taxa de Aprendizado: η = 0,1;\n",
        "Vetor inicial de pesos: wi ∼ U(−0,5, + 0,5). (Imprimir no começo);\n",
        "A cada época deve ser indicado o número de ajustes feitos no vetor de pesos;\n",
        "Sempre que o vetor de pesos for ajustado, este deve ser impresso;\n",
        "O algoritmo deve ser executado até a convergência;\n",
        "\n",
        "No final, imprimir:\n",
        "- O número total de ajustes no vetor de pesos;\n",
        "- O número de épocas até a convergência;\n",
        "- O gráfico contendo todos os exemplos do conjunto de dados e a reta que separa as classes\n",
        "obtida como resultado do treinamento do neurônio Perceptron. Respeitar o esquema de\n",
        "cores proposto inicialmente e apresentar a solução de maneira clara neste gráfico.\n",
        "\n",
        "'''"
      ],
      "execution_count": null,
      "outputs": []
    }
  ]
}