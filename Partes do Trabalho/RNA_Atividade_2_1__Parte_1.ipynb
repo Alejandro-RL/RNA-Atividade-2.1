{
  "nbformat": 4,
  "nbformat_minor": 0,
  "metadata": {
    "colab": {
      "name": "RNA-Atividade-2.1._Parte-1.ipynb",
      "provenance": [],
      "collapsed_sections": [],
      "authorship_tag": "ABX9TyNN9I+Fi/39We7yW6cf5mw3",
      "include_colab_link": true
    },
    "kernelspec": {
      "name": "python3",
      "display_name": "Python 3"
    },
    "language_info": {
      "name": "python"
    }
  },
  "cells": [
    {
      "cell_type": "markdown",
      "metadata": {
        "id": "view-in-github",
        "colab_type": "text"
      },
      "source": [
        "<a href=\"https://colab.research.google.com/github/Alejandro-RL/RNA-Atividade-2.1/blob/main/Partes%20do%20Trabalho/RNA_Atividade_2_1__Parte_1.ipynb\" target=\"_parent\"><img src=\"https://colab.research.google.com/assets/colab-badge.svg\" alt=\"Open In Colab\"/></a>"
      ]
    },
    {
      "cell_type": "markdown",
      "metadata": {
        "id": "YOG23lgcWbnH"
      },
      "source": [
        "# Imports e Arquivos"
      ]
    },
    {
      "cell_type": "code",
      "metadata": {
        "id": "3rNDX-iTTV7r"
      },
      "source": [
        "import numpy as np\n",
        "import matplotlib.pyplot as plt\n",
        "import math\n",
        "import random\n",
        "from tabulate import tabulate"
      ],
      "execution_count": 54,
      "outputs": []
    },
    {
      "cell_type": "code",
      "metadata": {
        "id": "s0Ei7_NoWxmP"
      },
      "source": [
        "!wget https://www.dropbox.com/s/8l7ced95mb4k9ds/dataAll.txt\n",
        "!wget https://www.dropbox.com/s/jad0ciovllm7y2y/data1.txt\n",
        "!wget https://www.dropbox.com/s/mnzqvzttfan3r3f/dataHoldout.txt"
      ],
      "execution_count": null,
      "outputs": []
    },
    {
      "cell_type": "markdown",
      "metadata": {
        "id": "yDO7Q0V3XnMk"
      },
      "source": [
        "# Parte I – Resolvendo um Problema Linearmente Separável"
      ]
    },
    {
      "cell_type": "code",
      "metadata": {
        "id": "YIUllyxzXsW7"
      },
      "source": [
        "'''\n",
        "Função de Ativação de Degrau com θ = 0;\n",
        "Taxa de Aprendizado: η = 0,1;\n",
        "Vetor inicial de pesos: wi ∼ U(−0,5, + 0,5). (Imprimir no começo);\n",
        "A cada época deve ser indicado o número de ajustes feitos no vetor de pesos;\n",
        "Sempre que o vetor de pesos for ajustado, este deve ser impresso;\n",
        "O algoritmo deve ser executado até a convergência;\n",
        "\n",
        "No final, imprimir:\n",
        "- O número total de ajustes no vetor de pesos;\n",
        "- O número de épocas até a convergência;\n",
        "- O gráfico contendo todos os exemplos do conjunto de dados e a reta que separa as classes\n",
        "obtida como resultado do treinamento do neurônio Perceptron. Respeitar o esquema de\n",
        "cores proposto inicialmente e apresentar a solução de maneira clara neste gráfico.\n",
        "\n",
        "'''"
      ],
      "execution_count": null,
      "outputs": []
    },
    {
      "cell_type": "code",
      "metadata": {
        "id": "2N0B7Te8cHnV"
      },
      "source": [
        "array_all = np.fromfile(\"/content/dataAll.txt\")\n",
        "array_all = array_all.ravel()\n",
        "'''\n",
        "O array vem na forma (N,1), N = número de dados total.\n",
        "Para organizar por cada exemplo, precisamos mudar a forma da array.\n",
        "Cada exemplo deve ter o formato [x1,x2,yd], pois são 3 dados para cada\n",
        "Então o array deve ficar com 3 colunas.\n",
        "O número de linhas deve ser N/colunas.\n",
        "'''\n",
        "colunas = 3\n",
        "array_all = array_all.reshape(len(array_all)//colunas, colunas)\n"
      ],
      "execution_count": 51,
      "outputs": []
    },
    {
      "cell_type": "code",
      "metadata": {
        "id": "sP4qOdOX7wY_"
      },
      "source": [
        "exemplos = np.array([[2,2,1],[4,4,0]])"
      ],
      "execution_count": 4,
      "outputs": []
    },
    {
      "cell_type": "code",
      "metadata": {
        "id": "TXlQxIMndYKD"
      },
      "source": [
        "class Neuronio:\n",
        "  #As variáveis do neurônio\n",
        "  #(Aqui ficam os elementos gerais da classe)\n",
        "  #(Para acessá-las, use self.[variável])\n",
        "  bias = -1\n",
        "  degrau = 0\n",
        "  taxa_aprendizado = 0.1\n",
        "  taxa_inicial = [-0.5, 0.5]\n",
        "\n",
        "  def __init__(self, exemplos):\n",
        "    #As variáveis dos exemplos\n",
        "    #(Aqui ficam os elementos individuais de cada objeto)\n",
        "    self.exemplos = exemplos\n",
        "\n",
        "    #Extraindo os resultados esperados\n",
        "    self.resultados_esperados = np.zeros(len(self.exemplos))\n",
        "    for i in range(len(self.exemplos)):\n",
        "      self.resultados_esperados[i] = self.exemplos[i][-1]\n",
        "    \n",
        "    #Agora criaremos um outro array com o bias no ínicio e sem o valor esperado\n",
        "    self.exemplos_bias = np.zeros_like(self.exemplos, dtype=np.float64)\n",
        "    \n",
        "    for i in range(len(self.exemplos)):\n",
        "      for j in range(len(self.exemplos[i])):\n",
        "        self.exemplos_bias[i][0] = self.bias\n",
        "        self.exemplos_bias[i][1] = self.exemplos[i][0]\n",
        "        self.exemplos_bias[i][2] = self.exemplos[i][1]\n",
        "      \n",
        "\n",
        "    self.ajustes = 0\n",
        "    self.epocas = 0\n",
        "    self.resultados_algoritmo = np.zeros(len(self.exemplos_bias))\n",
        "\n",
        "    #Definindo o tamanho da lista de pesos\n",
        "    '''\n",
        "    self.pesos = np.zeros(len(self.exemplos_bias[0]), dtype=np.float64)\n",
        "\n",
        "    \n",
        "    for i in range(len(self.pesos)):\n",
        "        self.pesos[i] = random.uniform(-0.5,0.5)\n",
        "    '''\n",
        "    #PESOS DE TESTE\n",
        "    self.pesos = np.array([-0.5441,0.5562,-0.4074])\n",
        "\n",
        "\n",
        "  def ativacao_degrau(self,u):\n",
        "    '''\n",
        "    Função de Ativação Degrau:\n",
        "    (degrau = θ)\n",
        "    Se u for maior ou igual a θ, retorna 1\n",
        "    Caso contrário, retorna 0\n",
        "    '''\n",
        "    if(u >= self.degrau):\n",
        "      return 1\n",
        "    else:\n",
        "      return 0\n",
        "\n",
        "\n",
        "  def teste(self):\n",
        "    '''\n",
        "    Precisamos testar se os valores coincidem com o gabarito\n",
        "    retorna: \n",
        "    - True,  se coincidir com o gabarito\n",
        "    - False, se não coincidir \n",
        "    '''\n",
        "    j = 0\n",
        "    for i in self.exemplos_bias:\n",
        "      #u = bias*pesos[0] + x1*pesos[1]... + xn*pesos[n]\n",
        "      u = i[0]*self.pesos[0]+i[1]*self.pesos[1]+i[2]*self.pesos[2]\n",
        "      self.resultados_algoritmo[j] = self.ativacao_degrau(u)        \n",
        "      j +=1\n",
        "    \n",
        "    for i in range(len(self.resultados_algoritmo)):\n",
        "      if(self.resultados_algoritmo[i] != self.resultados_esperados[i]):\n",
        "          return False\n",
        "    return True\n",
        "  \n",
        "  def ajuste(self):\n",
        "    '''\n",
        "    Faz o ajuste de pesos usando a Regra Delta\n",
        "    '''\n",
        "    \n",
        "    \n",
        "    for i in range(len(self.exemplos_bias)):\n",
        "      for j in range(len(self.pesos)):\n",
        "        #Regra Delta\n",
        "        erro = self.resultados_esperados[i] - self.resultados_algoritmo[i]\n",
        "        self.pesos[j] = self.pesos[j] + self.taxa_aprendizado*erro*self.exemplos_bias[i][j]\n",
        "      \n",
        "      # Se o erro for diferente de zero, significa que os resultados não convergiram\n",
        "      # Portanto, os pesos precisam ser atualizados\n",
        "      if (erro != 0):\n",
        "          self.ajustes +=1\n",
        "\n",
        "  def treinamento(self):\n",
        "    '''\n",
        "    Treina o algoritmo até a convergência\n",
        "    '''\n",
        "    \n",
        "    while (not self.teste()):\n",
        "      self.epocas += 1\n",
        "      self.ajuste()\n",
        "    \n",
        "    #Na última época, o self.teste retorna True, e portanto o while não é ativado\n",
        "    #Os pesos estão certos, mas é preciso adicionar 1 ao contador de épocas\n",
        "    self.epocas += 1\n",
        "    \n",
        "    print(\"Ajustes:\", self.ajustes)\n",
        "    print(\"Épocas:\", self.epocas)\n",
        "    print(\"Pesos:\")\n",
        "    m = np.array([self.pesos])\n",
        "    header = [\"bias\",\"x1\",\"x2\"]\n",
        "    table = tabulate(m,header,tablefmt=\"fancy_grid\")\n",
        "    print(table)\n",
        "\n",
        "\n",
        "    \n",
        "  def getPesos(self):\n",
        "     return self.pesos\n",
        "  \n",
        "  def getExemplos_Bias(self):\n",
        "     return self.exemplos_bias\n",
        "\n",
        "Teste1 = Neuronio(exemplos)"
      ],
      "execution_count": 95,
      "outputs": []
    },
    {
      "cell_type": "code",
      "metadata": {
        "colab": {
          "base_uri": "https://localhost:8080/"
        },
        "id": "ItQuG5I-LBVh",
        "outputId": "48c26f61-b0de-435b-d9ac-1c8138baeaee"
      },
      "source": [
        "Teste1.treinamento()"
      ],
      "execution_count": 96,
      "outputs": [
        {
          "output_type": "stream",
          "name": "stdout",
          "text": [
            "Ajustes: 2\n",
            "Épocas: 3\n",
            "Pesos:\n",
            "╒═════════╤════════╤═════════╕\n",
            "│    bias │     x1 │      x2 │\n",
            "╞═════════╪════════╪═════════╡\n",
            "│ -0.5441 │ 0.3562 │ -0.6074 │\n",
            "╘═════════╧════════╧═════════╛\n"
          ]
        }
      ]
    }
  ]
}